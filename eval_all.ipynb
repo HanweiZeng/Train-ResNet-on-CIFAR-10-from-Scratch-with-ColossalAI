{
 "cells": [
  {
   "cell_type": "code",
   "execution_count": 5,
   "id": "763d91d6-9646-4739-ae5f-432b2708eaa8",
   "metadata": {},
   "outputs": [
    {
     "name": "stdout",
     "output_type": "stream",
     "text": [
      "Files already downloaded and verified\n",
      "Epoch 5: Accuracy = 66.95%\n",
      "Epoch 10: Accuracy = 76.35%\n",
      "Epoch 15: Accuracy = 72.43%\n",
      "Epoch 20: Accuracy = 78.34%\n",
      "Epoch 25: Accuracy = 83.74%\n",
      "Epoch 30: Accuracy = 83.67%\n",
      "Epoch 35: Accuracy = 84.03%\n",
      "Epoch 40: Accuracy = 83.84%\n",
      "Epoch 45: Accuracy = 85.40%\n",
      "Epoch 50: Accuracy = 84.85%\n",
      "Epoch 55: Accuracy = 85.30%\n",
      "Epoch 60: Accuracy = 85.12%\n",
      "Epoch 65: Accuracy = 85.45%\n",
      "Epoch 70: Accuracy = 85.28%\n",
      "Epoch 75: Accuracy = 85.37%\n",
      "Epoch 80: Accuracy = 85.29%\n",
      "Figure(1000x500)\n"
     ]
    }
   ],
   "source": [
    "!python eval_all.py -c ./ckpt-torch_ddp32"
   ]
  },
  {
   "cell_type": "code",
   "execution_count": 6,
   "id": "f3a6a22c-4008-42b7-a29d-130ebfa84966",
   "metadata": {},
   "outputs": [
    {
     "name": "stdout",
     "output_type": "stream",
     "text": [
      "Files already downloaded and verified\n",
      "Epoch 5: Accuracy = 61.24%\n",
      "Epoch 10: Accuracy = 76.49%\n",
      "Epoch 15: Accuracy = 73.24%\n",
      "Epoch 20: Accuracy = 80.07%\n",
      "Epoch 25: Accuracy = 83.33%\n",
      "Epoch 30: Accuracy = 83.48%\n",
      "Epoch 35: Accuracy = 83.19%\n",
      "Epoch 40: Accuracy = 83.17%\n",
      "Epoch 45: Accuracy = 84.09%\n",
      "Epoch 50: Accuracy = 83.98%\n",
      "Epoch 55: Accuracy = 83.68%\n",
      "Epoch 60: Accuracy = 84.07%\n",
      "Epoch 65: Accuracy = 84.51%\n",
      "Epoch 70: Accuracy = 84.36%\n",
      "Epoch 75: Accuracy = 84.46%\n",
      "Epoch 80: Accuracy = 84.75%\n",
      "Figure(1000x500)\n"
     ]
    }
   ],
   "source": [
    "!python eval_all.py -c ./ckpt_resnet-low_level_zero"
   ]
  },
  {
   "cell_type": "code",
   "execution_count": null,
   "id": "4a365fed-97ec-4e92-9b95-8fef90f69aae",
   "metadata": {},
   "outputs": [],
   "source": []
  }
 ],
 "metadata": {
  "kernelspec": {
   "display_name": "Python 3 (ipykernel)",
   "language": "python",
   "name": "python3"
  },
  "language_info": {
   "codemirror_mode": {
    "name": "ipython",
    "version": 3
   },
   "file_extension": ".py",
   "mimetype": "text/x-python",
   "name": "python",
   "nbconvert_exporter": "python",
   "pygments_lexer": "ipython3",
   "version": "3.8.10"
  }
 },
 "nbformat": 4,
 "nbformat_minor": 5
}
